{
 "cells": [
  {
   "cell_type": "markdown",
   "id": "83d4016a",
   "metadata": {},
   "source": [
    "# Первый опыт с jupyter\n",
    "\n",
    "Экспортировать jupyter notebook в формат скрипта .py можно командой в терминале:\n",
    "```jupyter nbconvert ––to script MyScript.ipynb```"
   ]
  },
  {
   "cell_type": "code",
   "execution_count": null,
   "id": "ccf4e136",
   "metadata": {},
   "outputs": [],
   "source": [
    "for num in range(1, 10):\n",
    "    print(f\"n: {num} n%2: {num%2} n%5: {num%5}\")"
   ]
  },
  {
   "cell_type": "code",
   "execution_count": null,
   "id": "991a928e",
   "metadata": {},
   "outputs": [],
   "source": [
    "for num in range(1, 10):\n",
    "    val = ''\n",
    "    # if num == 15:\n",
    "    #     breakpoint()\n",
    "    if num % 3 == 0:\n",
    "        val += 'Fizz'\n",
    "    if num % 5 == 0:\n",
    "        val += 'Buzz'\n",
    "    if not val:\n",
    "        val = str(num)\n",
    "    print(val)"
   ]
  },
  {
   "attachments": {},
   "cell_type": "markdown",
   "id": "2843837a",
   "metadata": {},
   "source": [
    "# Область видимости"
   ]
  },
  {
   "cell_type": "code",
   "execution_count": null,
   "id": "be938f6d",
   "metadata": {},
   "outputs": [],
   "source": [
    "def func(a):\n",
    "    print(a)\n",
    "\n",
    "func(1)"
   ]
  },
  {
   "cell_type": "code",
   "execution_count": null,
   "id": "5212a84b",
   "metadata": {},
   "outputs": [],
   "source": [
    "# что если добавим вторую переменную b\n",
    "b = 2\n",
    "def func(a):\n",
    "    print(a)\n",
    "    print(b)\n",
    "\n",
    "func(1)"
   ]
  },
  {
   "cell_type": "code",
   "execution_count": null,
   "id": "b4a68e1f",
   "metadata": {},
   "outputs": [],
   "source": [
    "# Что если поместим её после описания функции\n",
    "def func(a):\n",
    "    print(a)\n",
    "    print(b)\n",
    "\n",
    "b = 2\n",
    "func(1)"
   ]
  },
  {
   "attachments": {},
   "cell_type": "markdown",
   "id": "0a9e47a1",
   "metadata": {},
   "source": [
    "Давай те теперь попробуем объявить b внутри функции. Что будет в этом случае?"
   ]
  },
  {
   "cell_type": "code",
   "execution_count": null,
   "id": "2c4449e7",
   "metadata": {},
   "outputs": [],
   "source": [
    "def func(a):\n",
    "    print(a)\n",
    "    print(b)\n",
    "    # Видит что объявлена внутри функции, поэтому перестаёт ссылаться на глобальную переменную.\n",
    "    b = 7\n",
    "\n",
    "b = 2\n",
    "func(1)"
   ]
  },
  {
   "cell_type": "code",
   "execution_count": null,
   "id": "09b06b3c",
   "metadata": {},
   "outputs": [],
   "source": [
    "def func(a):\n",
    "    print(a)\n",
    "    b = 7\n",
    "    print(b)\n",
    "\n",
    "b = 2\n",
    "func(1)\n",
    "# и добавим ввывод b. Что мы увидим?\n",
    "print(b)"
   ]
  },
  {
   "attachments": {},
   "cell_type": "markdown",
   "id": "78bd9dac",
   "metadata": {},
   "source": [
    "Мы видим, как взаимойствуют области видимости переменных"
   ]
  },
  {
   "cell_type": "markdown",
   "id": "0167fe28",
   "metadata": {},
   "source": [
    "# Замыкние"
   ]
  },
  {
   "cell_type": "code",
   "execution_count": null,
   "id": "a28ab2b0",
   "metadata": {},
   "outputs": [],
   "source": [
    "# Рассмотрим функцию такого вида\n",
    "def main_func():\n",
    "    def inner_func():\n",
    "        print(\"Hello my friend\")\n",
    "    inner_func()\n",
    "\n",
    "main_func()"
   ]
  },
  {
   "cell_type": "code",
   "execution_count": null,
   "id": "fd876398",
   "metadata": {},
   "outputs": [],
   "source": [
    "# Присовим эту функцию переменной\n",
    "def main_func():\n",
    "    def inner_func():\n",
    "        print(\"Hello my friend\")\n",
    "    inner_func()\n",
    "\n",
    "a = main_func() # Привоили не саму функцию я результат выполнения функции"
   ]
  },
  {
   "cell_type": "code",
   "execution_count": null,
   "id": "eed412f9",
   "metadata": {},
   "outputs": [],
   "source": [
    "def main_func():\n",
    "    def inner_func():\n",
    "        print(\"Hello my friend\")\n",
    "    inner_func()\n",
    "a = main_func # Присвоили саму функцию\n",
    "a()  \n",
    "print(a) # посмотрим чем, что из себя представляет теперь переменная a\n",
    "print(type(a))  # И какой тип имеет"
   ]
  },
  {
   "attachments": {},
   "cell_type": "markdown",
   "id": "280ba684",
   "metadata": {},
   "source": [
    "Продолжаем. Возвращаемое значение."
   ]
  },
  {
   "cell_type": "code",
   "execution_count": null,
   "id": "6ac98d74",
   "metadata": {},
   "outputs": [],
   "source": [
    "def main_func():\n",
    "    def inner_func():\n",
    "        print(\"Hello my friend\")\n",
    "    return inner_func\n",
    "\n",
    "a = main_func()\n",
    "print(a)\n",
    "# print(type(a))"
   ]
  },
  {
   "cell_type": "code",
   "execution_count": null,
   "id": "2c375caf",
   "metadata": {},
   "outputs": [],
   "source": [
    "def main_func():\n",
    "    def inner_func():\n",
    "        print(\"Hello my friend\")\n",
    "    return inner_func\n",
    "\n",
    "a = main_func()\n",
    "# Можем вызвать inner_func так\n",
    "a()"
   ]
  },
  {
   "cell_type": "code",
   "execution_count": null,
   "id": "feb93008",
   "metadata": {},
   "outputs": [],
   "source": [
    "def main_func(value):\n",
    "    name = value\n",
    "    def inner_func():\n",
    "        print(f\"Hello my friend, {value}\")\n",
    "    return inner_func\n",
    "\n",
    "a = main_func(\"Mike\")\n",
    "b = main_func(\"Alex\")\n",
    "a()\n",
    "b()\n",
    "# и сколько бы мы их не вызывали, получим именно эти значения.\n",
    "a()\n",
    "b()\n",
    "print(a)    \n",
    "print(b)\n",
    "main_func(\"Mike\")()\n",
    "main_func(\"Alex\")()\n",
    "print(main_func(\"Mike\"))\n",
    "print(main_func(\"Alex\"))"
   ]
  },
  {
   "attachments": {},
   "cell_type": "markdown",
   "id": "8502928f",
   "metadata": {},
   "source": [
    "Обратите внимание, что обасти памяти, на кооторые ссылаются переменные a и b разные.\n",
    "А сама функция ссылается на отличну от них обоих облать памяти.\n",
    "Этим и обуславливается то, что a и b хранят в себе разные вызовы функции. "
   ]
  },
  {
   "attachments": {},
   "cell_type": "markdown",
   "id": "153358cf",
   "metadata": {},
   "source": [
    "\"Замыканием называется ситуация, когда вложенная функция пользуется переменными, которые не обявлены в её теле.\""
   ]
  },
  {
   "cell_type": "code",
   "execution_count": null,
   "id": "f5e7854b",
   "metadata": {},
   "outputs": [],
   "source": [
    "def main_func(value):\n",
    "    name = value\n",
    "    def inner_func():\n",
    "        print(f\"Hello my friend, {value}\") # Выводим значение переменной, которая не объявлена в функции\n",
    "    return inner_func\n",
    "\n",
    "a = main_func(\"Mike\")\n",
    "b = main_func(\"Alex\")"
   ]
  },
  {
   "cell_type": "code",
   "execution_count": null,
   "id": "0ad224b5",
   "metadata": {},
   "outputs": [],
   "source": [
    "def func(a):\n",
    "    global b  # global позволяет получить доступ к переменной глобального окружения\n",
    "    print(b)\n",
    "    print(a)\n",
    "    b = 7\n",
    "    print(b)\n",
    "\n",
    "b = 2\n",
    "func(1)\n",
    "print(b)\n",
    "\n",
    "# Как мы видим на этом примере, это создаёт риски изменения глобальной переменной вне функции, что вызовет проблем в остальном коде"
   ]
  },
  {
   "cell_type": "code",
   "execution_count": null,
   "id": "30fc156f",
   "metadata": {},
   "outputs": [],
   "source": [
    "# Пример замыкания на счётчике\n",
    "def counter():\n",
    "    count = 0\n",
    "\n",
    "    def inner():\n",
    "        nonlocal count #выносим на уровень вложенности выше\n",
    "        # global count\n",
    "        count += 1\n",
    "        print(count)\n",
    "\n",
    "    return inner\n",
    "\n",
    "count = 1\n",
    "q = counter()\n",
    "q()\n",
    "q()\n",
    "q()\n",
    "print(count)"
   ]
  },
  {
   "attachments": {},
   "cell_type": "markdown",
   "id": "e30fb4c7",
   "metadata": {},
   "source": [
    "Использовать global лучше только в случае крайней необходимости."
   ]
  },
  {
   "attachments": {},
   "cell_type": "markdown",
   "id": "03f47e18",
   "metadata": {},
   "source": [
    "# Декораторы"
   ]
  },
  {
   "attachments": {},
   "cell_type": "markdown",
   "id": "7ec13f15",
   "metadata": {},
   "source": [
    "Декторатор - это функция, которая\n",
    "принимает на вход функцию, работает с функцией и возвращает функцию."
   ]
  },
  {
   "cell_type": "code",
   "execution_count": null,
   "id": "d1b07053",
   "metadata": {},
   "outputs": [],
   "source": [
    "# В чём тут ошибка? Почему это не декоратор?\n",
    "def decorator(func):\n",
    "    print(\"До\")\n",
    "    result = func()\n",
    "    print(\"После\")\n",
    "    return result\n",
    "\n",
    "def func():\n",
    "    print(\"Вызов функции func\")\n",
    "\n",
    "a = decorator(func)\n"
   ]
  },
  {
   "cell_type": "code",
   "execution_count": null,
   "id": "79a60f97",
   "metadata": {},
   "outputs": [],
   "source": [
    "def decorator(func):\n",
    "    def wraper():\n",
    "        print(\"До\")\n",
    "        result = func()\n",
    "        print(\"После\")\n",
    "        # return result\n",
    "    return wraper   \n",
    "\n",
    "def func():\n",
    "    print(\"Вызов функции func\")\n",
    "\n",
    "func = decorator(func)\n",
    "func()\n",
    "\n",
    "\n"
   ]
  },
  {
   "cell_type": "code",
   "execution_count": null,
   "id": "79a4e7db",
   "metadata": {},
   "outputs": [],
   "source": [
    "# Синтаксический сахар\n",
    "# это синтаксические возможности, применение которых не влияет на поведение программы, но делает использование языка более удобным для человека.\n",
    "def decorator(func):\n",
    "    def wraper():\n",
    "        print(\"До\")\n",
    "        result = func()\n",
    "        print(\"После\")\n",
    "        return result\n",
    "    return wraper   \n",
    "\n",
    "@decorator\n",
    "def func():\n",
    "    print(\"Вызов функции func\")\n",
    "\n",
    "func()\n"
   ]
  },
  {
   "cell_type": "code",
   "execution_count": null,
   "id": "321414e3",
   "metadata": {},
   "outputs": [],
   "source": [
    "# А что пройдёт здесь?\n",
    "def decorator(func):\n",
    "    def wraper():\n",
    "        print(\"До\")\n",
    "        result = func()\n",
    "        print(\"После\")\n",
    "        return result\n",
    "    return wraper   \n",
    "\n",
    "@decorator\n",
    "def func():\n",
    "    print(\"Вызов функции func\")\n",
    "\n",
    "func = decorator(func)\n",
    "func()"
   ]
  },
  {
   "attachments": {},
   "cell_type": "markdown",
   "id": "1f794a2c",
   "metadata": {},
   "source": [
    "Как ещё можно применить декторатор?"
   ]
  },
  {
   "cell_type": "code",
   "execution_count": null,
   "id": "f8ce284d",
   "metadata": {},
   "outputs": [],
   "source": [
    "# Если бы наша функция принимала значения\n",
    "def decorator(func):\n",
    "    def wraper(a, b):\n",
    "        print(\"До\")\n",
    "        if b == 0:  # можем добавить проверку.\n",
    "            print(\"На ноль делить нельзя\")\n",
    "            raise ZeroDivisionError\n",
    "        result = func(a, b)\n",
    "        print(\"После\")\n",
    "        return result\n",
    "    return wraper   \n",
    "\n",
    "@decorator\n",
    "def func(a, b):\n",
    "    return a / b\n",
    "    # print(\"Вызов функции func\")\n",
    "\n",
    "func(4, 0)"
   ]
  },
  {
   "attachments": {},
   "cell_type": "markdown",
   "id": "8d869a56",
   "metadata": {},
   "source": [
    "# Кэширование, логирование"
   ]
  },
  {
   "cell_type": "code",
   "execution_count": null,
   "id": "7625ace9",
   "metadata": {},
   "outputs": [],
   "source": [
    "def decorator(func):\n",
    "    def wraper(a, b):\n",
    "        print(\"Операции внутри декоратора:\")\n",
    "        result = func(a,b)\n",
    "        print(\"Завершение работы декоратора\")\n",
    "        return result\n",
    "    return wraper   \n",
    "\n",
    "@decorator\n",
    "def func(a,b):  #что если аргументов больше\n",
    "    print(\"Операция внутри func:\")\n",
    "    return a + b\n",
    "\n",
    "print(f\"Результат: {func(1, 1)}\")\n",
    "print(\"---------------------\")\n",
    "print(f\"Результат: {func(2, b=1)}\")\n",
    "print(\"---------------------\")"
   ]
  },
  {
   "cell_type": "code",
   "execution_count": null,
   "id": "ffcba905",
   "metadata": {},
   "outputs": [],
   "source": [
    "# *args, **kwargs \n",
    "def decorator(func):\n",
    "    def wraper(*args, **kwargs):\n",
    "        print(\"Операции внутри декоратора:\")\n",
    "        print(\"*args\", args)\n",
    "        print(\"**kwargs\", kwargs)\n",
    "        result = func(*args, **kwargs)\n",
    "        print(\"Завершение работы декоратора\")\n",
    "        return result\n",
    "    return wraper   \n",
    "\n",
    "@decorator\n",
    "def func(a, b, c, d):\n",
    "    print(\"Операция внутри func:\")\n",
    "    return a + b + c + d\n",
    "\n",
    "print(f'Результат: {func(1, 1, 1, 1)}')\n",
    "print(\"---------------------\")\n",
    "print(f'Результат: {func(2, b=1, c=1, d=1)}')\n",
    "print(\"---------------------\")\n",
    "print(f'Результат: {func(a =1, b=1, c=1, d=1)}')\n",
    "print(\"---------------------\")\n"
   ]
  },
  {
   "attachments": {},
   "cell_type": "markdown",
   "id": "dfb0bdd4",
   "metadata": {},
   "source": [
    "Декторатор получается более универсальным"
   ]
  },
  {
   "attachments": {},
   "cell_type": "markdown",
   "id": "5a257f49",
   "metadata": {},
   "source": [
    "Пример кэша"
   ]
  },
  {
   "attachments": {},
   "cell_type": "markdown",
   "id": "5ed9db29",
   "metadata": {},
   "source": [
    "Часто на собеседованиях просят создать какой-то простой декоратор. Вы описали эту простую конструкцию с функцией и вложенной функцией. \n",
    "И далее вас спрашивают, а как реализовать параметризованный декоратор?\n",
    "Т.е. тот, который может принимать на вход какие-то парамерты."
   ]
  },
  {
   "cell_type": "code",
   "execution_count": null,
   "id": "fd304b98",
   "metadata": {},
   "outputs": [],
   "source": [
    "def make_decorator(start_counter):\n",
    "    def decorator(func):\n",
    "        series = []\n",
    "        count = start_counter\n",
    "\n",
    "        def wrapper(*args, **kwargs):\n",
    "            nonlocal count\n",
    "            result = func(*args, **kwargs)\n",
    "            series.append(result)\n",
    "            print(f\"Это {count} запуск функции {func.__name__}\")\n",
    "            print(\"series = {}\".format(series))\n",
    "            count += 1\n",
    "            #return result\n",
    "        return wrapper\n",
    "    return decorator\n",
    "\n",
    "@make_decorator(10)\n",
    "def func1(a, b):\n",
    "    c = a + b\n",
    "    return c\n",
    "\n",
    "func1(1, 1)\n",
    "func1(2, b=1)\n",
    "func1(a=2, b=2)"
   ]
  },
  {
   "attachments": {},
   "cell_type": "markdown",
   "id": "1f8e5951",
   "metadata": {},
   "source": [
    "Т.е. мы берем наш декоратор и оборачиваем его в ещё одну функцию."
   ]
  },
  {
   "attachments": {},
   "cell_type": "markdown",
   "id": "4ec2c1ea",
   "metadata": {},
   "source": [
    "Декоратор @wraps() модуля functools \n",
    "позволяет заменить атрибуты декоратора на атрибуты исходной функции.\n",
    "\n",
    "\" https://docs-python.ru/standart-library/modul-functools-python/dekorator-wraps-modulja-functools/ \"\n"
   ]
  },
  {
   "cell_type": "code",
   "execution_count": null,
   "id": "088c9ec7",
   "metadata": {},
   "outputs": [],
   "source": [
    "from functools import wraps\n",
    "def my_decorator(f):\n",
    "    @wraps(f)\n",
    "    def wrapper(*args, **kwds):\n",
    "        print('Calling decorated function')\n",
    "        return f(*args, **kwds)\n",
    "    return wrapper\n",
    "\n",
    "@my_decorator\n",
    "def example():\n",
    "    \"\"\"Docstring\"\"\"\n",
    "    print('Called example function')\n",
    "\n",
    "example()\n",
    "example.__name__\n",
    "example.__doc__"
   ]
  },
  {
   "cell_type": "code",
   "execution_count": null,
   "id": "303f4cdc",
   "metadata": {},
   "outputs": [],
   "source": []
  }
 ],
 "metadata": {
  "kernelspec": {
   "display_name": "Python 3",
   "language": "python",
   "name": "python3"
  },
  "language_info": {
   "codemirror_mode": {
    "name": "ipython",
    "version": 3
   },
   "file_extension": ".py",
   "mimetype": "text/x-python",
   "name": "python",
   "nbconvert_exporter": "python",
   "pygments_lexer": "ipython3",
   "version": "3.9.10"
  },
  "vscode": {
   "interpreter": {
    "hash": "c9f80763b3bdaa30a7f493bd0dde1f62d8686393d513aed1a6a7b9f0e805c7b5"
   }
  }
 },
 "nbformat": 4,
 "nbformat_minor": 5
}
