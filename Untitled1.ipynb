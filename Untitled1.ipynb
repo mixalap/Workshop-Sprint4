{
 "cells": [
  {
   "cell_type": "markdown",
   "id": "d70b14d3",
   "metadata": {},
   "source": [
    "# Первый опыт с jupiter"
   ]
  },
  {
   "cell_type": "code",
   "execution_count": 1,
   "id": "ce375f51",
   "metadata": {},
   "outputs": [
    {
     "name": "stdout",
     "output_type": "stream",
     "text": [
      "n: 1 n%2: 1 n%5: 1\n",
      "n: 2 n%2: 0 n%5: 2\n",
      "n: 3 n%2: 1 n%5: 3\n",
      "n: 4 n%2: 0 n%5: 4\n",
      "n: 5 n%2: 1 n%5: 0\n",
      "n: 6 n%2: 0 n%5: 1\n",
      "n: 7 n%2: 1 n%5: 2\n",
      "n: 8 n%2: 0 n%5: 3\n",
      "n: 9 n%2: 1 n%5: 4\n"
     ]
    }
   ],
   "source": [
    "for num in range(1, 10):\n",
    "    print(f\"n: {num} n%2: {num%2} n%5: {num%5}\")"
   ]
  },
  {
   "cell_type": "code",
   "execution_count": 2,
   "id": "ff4a7926",
   "metadata": {},
   "outputs": [
    {
     "name": "stdout",
     "output_type": "stream",
     "text": [
      "1\n",
      "2\n",
      "Fizz\n",
      "4\n",
      "Buzz\n",
      "Fizz\n",
      "7\n",
      "8\n",
      "Fizz\n"
     ]
    }
   ],
   "source": [
    "for num in range(1, 10):\n",
    "    val = ''\n",
    "    # if num == 15:\n",
    "    #     breakpoint()\n",
    "    if num % 3 == 0:\n",
    "        val += 'Fizz'\n",
    "    if num % 5 == 0:\n",
    "        val += 'Buzz'\n",
    "    if not val:\n",
    "        val = str(num)\n",
    "    print(val)"
   ]
  },
  {
   "attachments": {},
   "cell_type": "markdown",
   "id": "98053a8c",
   "metadata": {},
   "source": [
    "# Область видимости"
   ]
  },
  {
   "cell_type": "code",
   "execution_count": 7,
   "id": "2cb7a6b9",
   "metadata": {},
   "outputs": [
    {
     "name": "stdout",
     "output_type": "stream",
     "text": [
      "1\n"
     ]
    }
   ],
   "source": [
    "def func(a):\n",
    "    print(a)\n",
    "\n",
    "func(1)"
   ]
  },
  {
   "cell_type": "code",
   "execution_count": 8,
   "id": "5d21e521",
   "metadata": {},
   "outputs": [
    {
     "name": "stdout",
     "output_type": "stream",
     "text": [
      "1\n",
      "2\n"
     ]
    }
   ],
   "source": [
    "b = 2\n",
    "def func(a):\n",
    "    print(a)\n",
    "    print(b)\n",
    "\n",
    "func(1)"
   ]
  },
  {
   "cell_type": "code",
   "execution_count": 9,
   "id": "8bb75316",
   "metadata": {},
   "outputs": [
    {
     "name": "stdout",
     "output_type": "stream",
     "text": [
      "1\n",
      "2\n"
     ]
    }
   ],
   "source": [
    "def func(a):\n",
    "    print(a)\n",
    "    print(b)\n",
    "\n",
    "b = 2\n",
    "func(1)"
   ]
  },
  {
   "cell_type": "code",
   "execution_count": 11,
   "id": "eb0cd743",
   "metadata": {},
   "outputs": [
    {
     "name": "stdout",
     "output_type": "stream",
     "text": [
      "1\n",
      "7\n"
     ]
    }
   ],
   "source": [
    "def func(a):\n",
    "    print(a)\n",
    "    b = 7\n",
    "    print(b)\n",
    "\n",
    "b = 2\n",
    "func(1)"
   ]
  },
  {
   "cell_type": "code",
   "execution_count": 12,
   "id": "7ab1c09e",
   "metadata": {},
   "outputs": [
    {
     "name": "stdout",
     "output_type": "stream",
     "text": [
      "1\n",
      "7\n",
      "2\n"
     ]
    }
   ],
   "source": [
    "def func(a):\n",
    "    print(a)\n",
    "    b = 7\n",
    "    print(b)\n",
    "\n",
    "b = 2\n",
    "func(1)\n",
    "print(b)"
   ]
  },
  {
   "attachments": {},
   "cell_type": "markdown",
   "id": "4004f800",
   "metadata": {},
   "source": [
    "# Замыкние"
   ]
  },
  {
   "cell_type": "code",
   "execution_count": 3,
   "id": "6a6c9712",
   "metadata": {},
   "outputs": [
    {
     "name": "stdout",
     "output_type": "stream",
     "text": [
      "Hello my friend\n"
     ]
    }
   ],
   "source": [
    "def main_func():\n",
    "    def inner_func():\n",
    "        print(\"Hello my friend\")\n",
    "    inner_func()\n",
    "\n",
    "main_func()"
   ]
  },
  {
   "cell_type": "code",
   "execution_count": 5,
   "id": "bf4e5dac",
   "metadata": {},
   "outputs": [
    {
     "name": "stdout",
     "output_type": "stream",
     "text": [
      "Hello my friend\n",
      "None\n"
     ]
    }
   ],
   "source": [
    "def main_func():\n",
    "    def inner_func():\n",
    "        print(\"Hello my friend\")\n",
    "    inner_func()\n",
    "\n",
    "a = main_func()\n",
    "print(a)"
   ]
  },
  {
   "cell_type": "code",
   "execution_count": 6,
   "id": "eb576f06",
   "metadata": {},
   "outputs": [
    {
     "name": "stdout",
     "output_type": "stream",
     "text": [
      "Hello my friend\n",
      "<function main_func at 0x00000234881234C0>\n",
      "<class 'function'>\n"
     ]
    }
   ],
   "source": [
    "def main_func():\n",
    "    def inner_func():\n",
    "        print(\"Hello my friend\")\n",
    "    inner_func()\n",
    "a = main_func\n",
    "a()\n",
    "print(a)\n",
    "print(type(a))"
   ]
  },
  {
   "cell_type": "code",
   "execution_count": 14,
   "id": "3607b6f8",
   "metadata": {},
   "outputs": [
    {
     "name": "stdout",
     "output_type": "stream",
     "text": [
      "Hello my friend\n",
      "<function main_func.<locals>.inner_func at 0x000002348356F1F0>\n"
     ]
    }
   ],
   "source": [
    "def main_func():\n",
    "    def inner_func():\n",
    "        print(\"Hello my friend\")\n",
    "    return inner_func\n",
    "\n",
    "a = main_func()\n",
    "a()\n",
    "print(a)"
   ]
  },
  {
   "cell_type": "code",
   "execution_count": 17,
   "id": "6f319699",
   "metadata": {},
   "outputs": [
    {
     "name": "stdout",
     "output_type": "stream",
     "text": [
      "Hello my friend, Mike\n",
      "Hello my friend, Alex\n",
      "Hello my friend, Mike\n",
      "Hello my friend, Alex\n",
      "<function main_func.<locals>.inner_func at 0x00000234894D38B0>\n",
      "<function main_func.<locals>.inner_func at 0x00000234894D3700>\n",
      "Hello my friend, Mike\n",
      "Hello my friend, Alex\n",
      "<function main_func.<locals>.inner_func at 0x00000234894D3670>\n",
      "<function main_func.<locals>.inner_func at 0x00000234894D3670>\n"
     ]
    }
   ],
   "source": [
    "def main_func(value):\n",
    "    name = value\n",
    "    def inner_func():\n",
    "        print(f\"Hello my friend, {value}\")\n",
    "    return inner_func\n",
    "\n",
    "a = main_func(\"Mike\")\n",
    "b = main_func(\"Alex\")\n",
    "a()\n",
    "b()\n",
    "# и сколько бы мы их не вызывали, получим именно эти значения.\n",
    "a()\n",
    "b()\n",
    "print(a)\n",
    "print(b)\n",
    "main_func(\"Mike\")()\n",
    "main_func(\"Alex\")()\n",
    "print(main_func(\"Mike\"))\n",
    "print(main_func(\"Alex\"))\n"
   ]
  },
  {
   "cell_type": "code",
   "execution_count": 18,
   "id": "bdc168cd",
   "metadata": {},
   "outputs": [],
   "source": [
    "def main_func(value):\n",
    "    name = value\n",
    "    def inner_func():\n",
    "        print(f\"Hello my friend, {value}\")\n",
    "    return inner_func\n",
    "\n",
    "a = main_func(\"Mike\")\n",
    "b = main_func(\"Alex\")"
   ]
  },
  {
   "cell_type": "code",
   "execution_count": 19,
   "id": "8ab872bd",
   "metadata": {},
   "outputs": [
    {
     "name": "stdout",
     "output_type": "stream",
     "text": [
      "2\n",
      "1\n",
      "7\n",
      "7\n"
     ]
    }
   ],
   "source": [
    "def func(a):\n",
    "    global b \n",
    "    print(b)\n",
    "    print(a)\n",
    "    b = 7\n",
    "    print(b)\n",
    "\n",
    "b = 2\n",
    "func(1)\n",
    "\n",
    "print(b)"
   ]
  },
  {
   "cell_type": "code",
   "execution_count": 22,
   "id": "7c2d0bef",
   "metadata": {},
   "outputs": [
    {
     "name": "stdout",
     "output_type": "stream",
     "text": [
      "2\n",
      "3\n",
      "4\n",
      "4\n"
     ]
    }
   ],
   "source": [
    "def counter():\n",
    "    count = 0\n",
    "\n",
    "    def inner():\n",
    "        # nonlocal count \n",
    "        # global count\n",
    "        count += 1\n",
    "        print(count)\n",
    "\n",
    "    return inner\n",
    "\n",
    "count = 1\n",
    "q = counter()\n",
    "q()\n",
    "q()\n",
    "q()\n",
    "print(count)"
   ]
  },
  {
   "attachments": {},
   "cell_type": "markdown",
   "id": "6da935ec",
   "metadata": {},
   "source": [
    "Почему здесь "
   ]
  },
  {
   "cell_type": "code",
   "execution_count": 26,
   "id": "fb8cef41",
   "metadata": {},
   "outputs": [
    {
     "name": "stdout",
     "output_type": "stream",
     "text": [
      "Глобальная Локальная Параметр Внутренняя\n"
     ]
    }
   ],
   "source": [
    "global_variable = 'Глобальная'\n",
    "\n",
    "\n",
    "def some_func(passed_variable):\n",
    "    local_variable = 'Локальная'\n",
    "\n",
    "    def inside_func():\n",
    "        inside_local_variable = 'Внутренняя'\n",
    "        # local_variable += \"wq\"\n",
    "        return(f'{global_variable} '\n",
    "               f'{local_variable} '\n",
    "               f'{passed_variable} '\n",
    "               f'{inside_local_variable}')\n",
    "    print(inside_func())\n",
    "\n",
    "some_func('Параметр')"
   ]
  },
  {
   "attachments": {},
   "cell_type": "markdown",
   "id": "a3bce138",
   "metadata": {},
   "source": [
    "# Декораторы\n",
    "Принимает на вход функцию, работает с функцией и возвращает функцию."
   ]
  },
  {
   "cell_type": "code",
   "execution_count": 27,
   "id": "aca1afc1",
   "metadata": {},
   "outputs": [
    {
     "name": "stdout",
     "output_type": "stream",
     "text": [
      "До\n",
      "Вызов функции func\n",
      "После\n"
     ]
    }
   ],
   "source": [
    "def decorator(func):\n",
    "    print(\"До\")\n",
    "    result = func()\n",
    "    print(\"После\")\n",
    "    return result\n",
    "\n",
    "def func():\n",
    "    print(\"Вызов функции func\")\n",
    "\n",
    "a = decorator(func)"
   ]
  },
  {
   "cell_type": "code",
   "execution_count": 28,
   "id": "9d7c9c71",
   "metadata": {},
   "outputs": [
    {
     "name": "stdout",
     "output_type": "stream",
     "text": [
      "До\n",
      "Вызов функции func\n",
      "После\n"
     ]
    }
   ],
   "source": [
    "def decorator(func):\n",
    "    def wraper():\n",
    "        print(\"До\")\n",
    "        result = func()\n",
    "        print(\"После\")\n",
    "        # return result\n",
    "    return wraper   \n",
    "\n",
    "def func():\n",
    "    print(\"Вызов функции func\")\n",
    "\n",
    "func = decorator(func)\n",
    "func()"
   ]
  },
  {
   "cell_type": "code",
   "execution_count": 29,
   "id": "ea1a8197",
   "metadata": {},
   "outputs": [
    {
     "name": "stdout",
     "output_type": "stream",
     "text": [
      "До\n",
      "Вызов функции func\n",
      "После\n"
     ]
    }
   ],
   "source": [
    "def decorator(func):\n",
    "    def wraper():\n",
    "        print(\"До\")\n",
    "        result = func()\n",
    "        print(\"После\")\n",
    "        return result\n",
    "    return wraper   \n",
    "\n",
    "@decorator\n",
    "def func():\n",
    "    print(\"Вызов функции func\")\n",
    "\n",
    "func()"
   ]
  },
  {
   "cell_type": "code",
   "execution_count": 32,
   "id": "a65d0a3f",
   "metadata": {},
   "outputs": [
    {
     "name": "stdout",
     "output_type": "stream",
     "text": [
      "До\n",
      "До\n",
      "Вызов функции func\n",
      "После\n",
      "После\n"
     ]
    }
   ],
   "source": [
    "def decorator(func):\n",
    "    def wraper():\n",
    "        print(\"До\")\n",
    "        result = func()\n",
    "        print(\"После\")\n",
    "        return result\n",
    "    return wraper   \n",
    "\n",
    "@decorator\n",
    "@decorator\n",
    "def func():\n",
    "    print(\"Вызов функции func\")\n",
    "\n",
    "# func = decorator(func)\n",
    "func()\n",
    "# func()"
   ]
  },
  {
   "cell_type": "code",
   "execution_count": null,
   "id": "3a89e867",
   "metadata": {},
   "outputs": [],
   "source": [
    "def decorator(func):\n",
    "    def wraper():\n",
    "        print(\"До\")\n",
    "        result = func()\n",
    "        print(\"После\")\n",
    "        return result\n",
    "    return wraper   \n",
    "\n",
    "@decorator\n",
    "def func():\n",
    "    print(\"Вызов функции func\")\n",
    "\n",
    "    "
   ]
  },
  {
   "cell_type": "code",
   "execution_count": 36,
   "id": "b2ced239",
   "metadata": {},
   "outputs": [
    {
     "name": "stdout",
     "output_type": "stream",
     "text": [
      "До\n",
      "На ноль делить нельзя\n"
     ]
    },
    {
     "ename": "ZeroDivisionError",
     "evalue": "",
     "output_type": "error",
     "traceback": [
      "\u001b[1;31m---------------------------------------------------------------------------\u001b[0m",
      "\u001b[1;31mZeroDivisionError\u001b[0m                         Traceback (most recent call last)",
      "Cell \u001b[1;32mIn[36], line 17\u001b[0m\n\u001b[0;32m     14\u001b[0m     \u001b[39mreturn\u001b[39;00m a \u001b[39m/\u001b[39m b\n\u001b[0;32m     15\u001b[0m     \u001b[39m# print(\"Вызов функции func\")\u001b[39;00m\n\u001b[1;32m---> 17\u001b[0m func(\u001b[39m4\u001b[39;49m, \u001b[39m0\u001b[39;49m)\n",
      "Cell \u001b[1;32mIn[36], line 6\u001b[0m, in \u001b[0;36mdecorator.<locals>.wraper\u001b[1;34m(a, b)\u001b[0m\n\u001b[0;32m      4\u001b[0m \u001b[39mif\u001b[39;00m b \u001b[39m==\u001b[39m \u001b[39m0\u001b[39m:\n\u001b[0;32m      5\u001b[0m     \u001b[39mprint\u001b[39m(\u001b[39m\"\u001b[39m\u001b[39mНа ноль делить нельзя\u001b[39m\u001b[39m\"\u001b[39m)\n\u001b[1;32m----> 6\u001b[0m     \u001b[39mraise\u001b[39;00m \u001b[39mZeroDivisionError\u001b[39;00m\n\u001b[0;32m      7\u001b[0m result \u001b[39m=\u001b[39m func(a, b)\n\u001b[0;32m      8\u001b[0m \u001b[39mprint\u001b[39m(\u001b[39m\"\u001b[39m\u001b[39mПосле\u001b[39m\u001b[39m\"\u001b[39m)\n",
      "\u001b[1;31mZeroDivisionError\u001b[0m: "
     ]
    }
   ],
   "source": [
    "def decorator(func):\n",
    "    def wraper(a, b):\n",
    "        print(\"До\")\n",
    "        if b == 0:\n",
    "            print(\"На ноль делить нельзя\")\n",
    "            raise ZeroDivisionError\n",
    "        result = func(a, b)\n",
    "        print(\"После\")\n",
    "        return result\n",
    "    return wraper   \n",
    "\n",
    "@decorator\n",
    "def func(a, b):\n",
    "    return a / b\n",
    "    # print(\"Вызов функции func\")\n",
    "\n",
    "func(4, 0)"
   ]
  },
  {
   "cell_type": "code",
   "execution_count": 37,
   "id": "ae12550d",
   "metadata": {},
   "outputs": [
    {
     "name": "stdout",
     "output_type": "stream",
     "text": [
      "Операции внутри декоратора:\n",
      "Операция внутри func:\n",
      "Завершение работы декоратора\n",
      "Результат: 2\n",
      "---------------------\n",
      "Операции внутри декоратора:\n",
      "Операция внутри func:\n",
      "Завершение работы декоратора\n",
      "Результат: 3\n",
      "---------------------\n"
     ]
    }
   ],
   "source": [
    "def decorator(func):\n",
    "    def wraper(a, b):\n",
    "        print(\"Операции внутри декоратора:\")\n",
    "        result = func(a,b)\n",
    "        print(\"Завершение работы декоратора\")\n",
    "        return result\n",
    "    return wraper   \n",
    "\n",
    "@decorator\n",
    "def func(a,b):  #что если аргументов больше\n",
    "    print(\"Операция внутри func:\")\n",
    "    return a + b\n",
    "\n",
    "print(f\"Результат: {func(1, 1)}\")\n",
    "print(\"---------------------\")\n",
    "print(f\"Результат: {func(2, b=1)}\")\n",
    "print(\"---------------------\")"
   ]
  },
  {
   "cell_type": "code",
   "execution_count": 38,
   "id": "913f9ec2",
   "metadata": {},
   "outputs": [
    {
     "name": "stdout",
     "output_type": "stream",
     "text": [
      "Операции внутри декоратора:\n",
      "*args (1, 1, 1, 1)\n",
      "**kwargs {}\n",
      "Операция внутри func:\n",
      "Завершение работы декоратора\n",
      "Результат: 4\n",
      "---------------------\n",
      "Операции внутри декоратора:\n",
      "*args (2,)\n",
      "**kwargs {'b': 1, 'c': 1, 'd': 1}\n",
      "Операция внутри func:\n",
      "Завершение работы декоратора\n",
      "Результат: 5\n",
      "---------------------\n",
      "Операции внутри декоратора:\n",
      "*args ()\n",
      "**kwargs {'a': 1, 'b': 1, 'c': 1, 'd': 1}\n",
      "Операция внутри func:\n",
      "Завершение работы декоратора\n",
      "Результат: 4\n",
      "---------------------\n"
     ]
    }
   ],
   "source": [
    "def decorator(func):\n",
    "    def wraper(*args, **kwargs):\n",
    "        print(\"Операции внутри декоратора:\")\n",
    "        print(\"*args\", args)\n",
    "        print(\"**kwargs\", kwargs)\n",
    "        result = func(*args, **kwargs)\n",
    "        print(\"Завершение работы декоратора\")\n",
    "        return result\n",
    "    return wraper   \n",
    "\n",
    "@decorator\n",
    "def func(a, b, c, d):\n",
    "    print(\"Операция внутри func:\")\n",
    "    return a + b + c + d\n",
    "\n",
    "print(f'Результат: {func(1, 1, 1, 1)}')\n",
    "print(\"---------------------\")\n",
    "print(f'Результат: {func(2, b=1, c=1, d=1)}')\n",
    "print(\"---------------------\")\n",
    "print(f'Результат: {func(a=1, b=1, c=1, d=1)}')\n",
    "print(\"---------------------\")"
   ]
  },
  {
   "cell_type": "code",
   "execution_count": 39,
   "id": "28b63ed0",
   "metadata": {},
   "outputs": [
    {
     "name": "stdout",
     "output_type": "stream",
     "text": [
      "Это 10 запуск функции func1\n",
      "series = [2]\n",
      "Это 11 запуск функции func1\n",
      "series = [2, 3]\n",
      "Это 12 запуск функции func1\n",
      "series = [2, 3, 4]\n"
     ]
    }
   ],
   "source": [
    "def make_decorator(start_counter):\n",
    "    def decorator(func):\n",
    "        series = []\n",
    "        count = start_counter\n",
    "\n",
    "        def wrapper(*args, **kwargs):\n",
    "            nonlocal count\n",
    "\n",
    "            result = func(*args, **kwargs)\n",
    "            series.append(result)\n",
    "            print(f\"Это {count} запуск функции {func.__name__}\")\n",
    "            print(\"series = {}\".format(series))\n",
    "            count += 1\n",
    "            #return result\n",
    "        return wrapper\n",
    "    return decorator\n",
    "\n",
    "@make_decorator(10)\n",
    "def func1(a, b):\n",
    "    c = a + b\n",
    "    return c\n",
    "\n",
    "func1(1, 1)\n",
    "func1(2, b=1)\n",
    "func1(a=2, b=2)"
   ]
  },
  {
   "cell_type": "code",
   "execution_count": null,
   "id": "de176f6f",
   "metadata": {},
   "outputs": [],
   "source": []
  }
 ],
 "metadata": {
  "kernelspec": {
   "display_name": "Python 3 (ipykernel)",
   "language": "python",
   "name": "python3"
  },
  "language_info": {
   "codemirror_mode": {
    "name": "ipython",
    "version": 3
   },
   "file_extension": ".py",
   "mimetype": "text/x-python",
   "name": "python",
   "nbconvert_exporter": "python",
   "pygments_lexer": "ipython3",
   "version": "3.9.10"
  },
  "vscode": {
   "interpreter": {
    "hash": "4ea0db91f0150fd572b73808068ee0cbca2a588aa0eef23b82c3ff47d6a5d7b4"
   }
  }
 },
 "nbformat": 4,
 "nbformat_minor": 5
}
