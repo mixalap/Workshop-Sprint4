{
 "cells": [
  {
   "cell_type": "markdown",
   "id": "0167fe28",
   "metadata": {},
   "source": [
    "# Замыкние"
   ]
  },
  {
   "cell_type": "code",
   "execution_count": 3,
   "id": "a28ab2b0",
   "metadata": {},
   "outputs": [
    {
     "name": "stdout",
     "output_type": "stream",
     "text": [
      "Hello my friend\n"
     ]
    }
   ],
   "source": [
    "def main_func():\n",
    "    def inner_func():\n",
    "        print(\"Hello my friend\")\n",
    "    inner_func()\n",
    "\n",
    "main_func()"
   ]
  },
  {
   "cell_type": "code",
   "execution_count": 4,
   "id": "fd876398",
   "metadata": {},
   "outputs": [
    {
     "name": "stdout",
     "output_type": "stream",
     "text": [
      "Hello my friend\n"
     ]
    }
   ],
   "source": [
    "def main_func():\n",
    "    def inner_func():\n",
    "        print(\"Hello my friend\")\n",
    "    inner_func()\n",
    "\n",
    "a = main_func()"
   ]
  },
  {
   "cell_type": "code",
   "execution_count": 7,
   "id": "eed412f9",
   "metadata": {},
   "outputs": [
    {
     "name": "stdout",
     "output_type": "stream",
     "text": [
      "Hello my friend\n",
      "<function main_func at 0x000002B2F8875670>\n",
      "<class 'function'>\n"
     ]
    }
   ],
   "source": [
    "def main_func():\n",
    "    def inner_func():\n",
    "        print(\"Hello my friend\")\n",
    "    inner_func()\n",
    "a = main_func\n",
    "a()\n",
    "print(a)\n",
    "print(type(a))"
   ]
  },
  {
   "cell_type": "code",
   "execution_count": 6,
   "id": "6ac98d74",
   "metadata": {},
   "outputs": [
    {
     "name": "stdout",
     "output_type": "stream",
     "text": [
      "<function main_func at 0x000002B2F8875040>\n",
      "<class 'function'>\n"
     ]
    }
   ],
   "source": [
    "def main_func():\n",
    "    def inner_func():\n",
    "        print(\"Hello my friend\")\n",
    "    inner_func\n",
    "a = main_func\n",
    "print(a)\n",
    "print(type(a))"
   ]
  }
 ],
 "metadata": {
  "kernelspec": {
   "display_name": "Python 3 (ipykernel)",
   "language": "python",
   "name": "python3"
  },
  "language_info": {
   "codemirror_mode": {
    "name": "ipython",
    "version": 3
   },
   "file_extension": ".py",
   "mimetype": "text/x-python",
   "name": "python",
   "nbconvert_exporter": "python",
   "pygments_lexer": "ipython3",
   "version": "3.9.10"
  },
  "vscode": {
   "interpreter": {
    "hash": "4ea0db91f0150fd572b73808068ee0cbca2a588aa0eef23b82c3ff47d6a5d7b4"
   }
  }
 },
 "nbformat": 4,
 "nbformat_minor": 5
}
